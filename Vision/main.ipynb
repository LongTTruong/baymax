{
 "cells": [
  {
   "cell_type": "code",
   "execution_count": 4,
   "metadata": {},
   "outputs": [
    {
     "name": "stdout",
     "output_type": "stream",
     "text": [
      "Requirement already satisfied: opencv-python in /Users/apramodk/.pyenv/versions/3.9.17/lib/python3.9/site-packages (4.8.0.76)\n",
      "Requirement already satisfied: numpy>=1.17.0 in /Users/apramodk/.pyenv/versions/3.9.17/lib/python3.9/site-packages (from opencv-python) (1.22.0)\n",
      "\u001b[33mDEPRECATION: torchsde 0.2.5 has a non-standard dependency specifier numpy>=1.19.*; python_version >= \"3.7\". pip 24.0 will enforce this behaviour change. A possible replacement is to upgrade to a newer version of torchsde or contact the author to suggest that they release a version with a conforming dependency specifiers. Discussion can be found at https://github.com/pypa/pip/issues/12063\u001b[0m\u001b[33m\n",
      "\u001b[0m"
     ]
    }
   ],
   "source": [
    "!pip3 install opencv-python"
   ]
  },
  {
   "cell_type": "code",
   "execution_count": 1,
   "metadata": {},
   "outputs": [],
   "source": [
    "import pandas as pd\n",
    "import numpy as np\n",
    "\n",
    "from glob import glob\n",
    "\n",
    "import cv2 as cv\n",
    "import matplotlib.pyplot as plt\n",
    "import os"
   ]
  },
  {
   "cell_type": "code",
   "execution_count": 3,
   "metadata": {},
   "outputs": [],
   "source": [
    "\n",
    "cap = cv.VideoCapture(0)\n",
    "\n",
    "if not cap.isOpened():\n",
    "    print (\"Error: Could not open the camera.\")\n",
    "    exit()\n",
    "\n",
    "input_directory = 'InputStream'\n",
    "os.makedirs(input_directory, exist_ok=True)\n",
    "max_frames = 60\n",
    "frame_counter = 0\n",
    "\n",
    "while True:\n",
    "    frames = [f for f in os.listdir(input_directory) if f.endswith('.jpg')]\n",
    "    ret, frame = cap.read()\n",
    "\n",
    "    frame_filename = os.path.join(input_directory, f\"frame_{frame_counter}.jpg\")\n",
    "\n",
    "    cv.imwrite(frame_filename, frame)\n",
    "    frame_counter += 1\n",
    "    if len(frames) >= max_frames:\n",
    "        os.remove(f'InputStream/frame_{frame_counter - max_frames}.jpg')\n",
    "    \n",
    "    cv.imshow('Video Stream', frame)\n",
    "\n",
    "    if cv.waitKey(1) == ord('q'):\n",
    "        break\n",
    "\n",
    "\n",
    "cap.release()\n",
    "cv.destroyAllWindows()\n",
    "\n"
   ]
  },
  {
   "cell_type": "code",
   "execution_count": null,
   "metadata": {},
   "outputs": [
    {
     "ename": "",
     "evalue": "",
     "output_type": "error",
     "traceback": [
      "\u001b[1;31mThe Kernel crashed while executing code in the the current cell or a previous cell. Please review the code in the cell(s) to identify a possible cause of the failure. Click <a href='https://aka.ms/vscodeJupyterKernelCrash'>here</a> for more info. View Jupyter <a href='command:jupyter.viewOutput'>log</a> for further details."
     ]
    }
   ],
   "source": [
    "file = [items for items in os.listdir(input_directory) if items.endswith('.jpg')]\n",
    "for k in file:\n",
    "    file_path = os.path.join(input_directory, k)\n",
    "    os.remove(file_path)"
   ]
  }
 ],
 "metadata": {
  "kernelspec": {
   "display_name": "Python 3",
   "language": "python",
   "name": "python3"
  },
  "language_info": {
   "codemirror_mode": {
    "name": "ipython",
    "version": 3
   },
   "file_extension": ".py",
   "mimetype": "text/x-python",
   "name": "python",
   "nbconvert_exporter": "python",
   "pygments_lexer": "ipython3",
   "version": "3.10.7"
  }
 },
 "nbformat": 4,
 "nbformat_minor": 2
}
